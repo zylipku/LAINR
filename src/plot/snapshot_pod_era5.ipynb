{
 "cells": [
  {
   "cell_type": "code",
   "execution_count": 1,
   "metadata": {},
   "outputs": [],
   "source": [
    "import os\n",
    "import numpy as np\n",
    "import torch"
   ]
  },
  {
   "cell_type": "code",
   "execution_count": 2,
   "metadata": {},
   "outputs": [
    {
     "data": {
      "text/plain": [
       "'/home/zhuoyuan/MyProjects/LAINR-simplified/src/plot'"
      ]
     },
     "execution_count": 2,
     "metadata": {},
     "output_type": "execute_result"
    }
   ],
   "source": [
    "os.getcwd()"
   ]
  },
  {
   "cell_type": "code",
   "execution_count": 3,
   "metadata": {},
   "outputs": [],
   "source": [
    "import sys\n",
    "sys.path.append('../')"
   ]
  },
  {
   "cell_type": "code",
   "execution_count": 4,
   "metadata": {},
   "outputs": [],
   "source": [
    "from metrics import get_metrics\n",
    "from datasets import MetaData"
   ]
  },
  {
   "cell_type": "code",
   "execution_count": 5,
   "metadata": {},
   "outputs": [],
   "source": [
    "root_path = '/home/lizhuoyuan/datasets/ERA5'"
   ]
  },
  {
   "cell_type": "code",
   "execution_count": 6,
   "metadata": {},
   "outputs": [],
   "source": [
    "metadata_tr: MetaData = torch.load(os.path.join(root_path, 'cached_meta_tr.pt'))\n",
    "metadata_va: MetaData = torch.load(os.path.join(root_path, 'cached_meta_va.pt'))"
   ]
  },
  {
   "cell_type": "code",
   "execution_count": 7,
   "metadata": {},
   "outputs": [],
   "source": [
    "trajs_tr = metadata_tr.trajs  # (ntrajs, Nsteps, *state_size, state_channels)\n",
    "trajs_va = metadata_va.trajs  # (ntrajs, Nsteps, *state_size, state_channels)\n",
    "\n",
    "ntrajs_tr, Nsteps_tr, *state_size_tr, state_channels_tr = trajs_tr.shape\n",
    "ntrajs_va, Nsteps_va, *state_size_va, state_channels_va = trajs_va.shape"
   ]
  },
  {
   "cell_type": "code",
   "execution_count": 8,
   "metadata": {},
   "outputs": [
    {
     "name": "stdout",
     "output_type": "stream",
     "text": [
      "X_tr.shape=(8400, 16384), X_va.shape=(480, 16384)\n"
     ]
    }
   ],
   "source": [
    "X_tr = trajs_tr.reshape(trajs_tr.shape[0] * trajs_tr.shape[1], -1)  # (N, n)\n",
    "X_va = trajs_va.reshape(trajs_va.shape[0] * trajs_va.shape[1], -1)  # (N, n)\n",
    "\n",
    "X_tr = np.float64(X_tr.numpy())  # (N, n=128x64x2=16384)\n",
    "X_va = np.float64(X_va.numpy())  # (N, n=128x64x2=16384)\n",
    "\n",
    "print(f'{X_tr.shape=}, {X_va.shape=}')"
   ]
  },
  {
   "cell_type": "code",
   "execution_count": 9,
   "metadata": {},
   "outputs": [
    {
     "name": "stdout",
     "output_type": "stream",
     "text": [
      "(16384, 8400)\n",
      "(8400,)\n",
      "(8400, 8400)\n"
     ]
    }
   ],
   "source": [
    "res = np.linalg.svd(X_tr.T, full_matrices=False)  # (n, n)\n",
    "print(res.U.shape)  # (16384, 4320) = (128x64x2, 18x240)\n",
    "print(res.S.shape)  # (4320,)\n",
    "print(res.Vh.shape)  # (4320, 4320)"
   ]
  },
  {
   "cell_type": "code",
   "execution_count": 10,
   "metadata": {},
   "outputs": [
    {
     "data": {
      "text/plain": [
       "2.2098948532517243e-11"
      ]
     },
     "execution_count": 10,
     "metadata": {},
     "output_type": "execute_result"
    }
   ],
   "source": [
    "X_tr_emb = X_tr @ res.U  # (N, n) x (n, N) = (N, N)\n",
    "X_tr_rec = X_tr_emb @ res.U.T  # (N, N) x (N, n) = (N, n)\n",
    "np.linalg.norm(X_tr - X_tr_rec)  # allclose"
   ]
  },
  {
   "cell_type": "code",
   "execution_count": 11,
   "metadata": {},
   "outputs": [
    {
     "data": {
      "text/plain": [
       "467.39806901195834"
      ]
     },
     "execution_count": 11,
     "metadata": {},
     "output_type": "execute_result"
    }
   ],
   "source": [
    "X_tr_emb = X_tr @ res.U[:, :1024]  # (N, n) x (n, 1024) = (N, 1024)\n",
    "X_tr_rec = X_tr_emb @ res.U[:, :1024].T  # (N, 1024) x (1024, n) = (N, n)\n",
    "np.linalg.norm(X_tr - X_tr_rec)  # allclose"
   ]
  },
  {
   "cell_type": "code",
   "execution_count": 12,
   "metadata": {},
   "outputs": [
    {
     "data": {
      "text/plain": [
       "166.5984004797988"
      ]
     },
     "execution_count": 12,
     "metadata": {},
     "output_type": "execute_result"
    }
   ],
   "source": [
    "X_va_emb = X_va @ res.U[:, :1024]  # (N, n) x (n, 1024) = (N, 1024)\n",
    "X_va_rec = X_va_emb @ res.U[:, :1024].T  # (N, 1024) x (1024, n) = (N, n)\n",
    "np.linalg.norm(X_va - X_va_rec)  # allclose"
   ]
  },
  {
   "cell_type": "code",
   "execution_count": 27,
   "metadata": {},
   "outputs": [
    {
     "data": {
      "image/png": "[encoded data removed]",
      "text/plain": [
       "<Figure size 640x480 with 1 Axes>"
      ]
     },
     "metadata": {},
     "output_type": "display_data"
    }
   ],
   "source": [
    "from matplotlib import pyplot as plt\n",
    "import matplotlib\n",
    "matplotlib.rcParams['mathtext.fontset'] = 'stix'\n",
    "matplotlib.rcParams['font.family'] = 'STIXGeneral'\n",
    "\n",
    "plt.plot(res.S[:4000])\n",
    "plt.vlines(400, 0, res.S[400], colors='r', linestyles='dashed')\n",
    "plt.vlines(1024, 0, res.S[1024], colors='r', linestyles='dashed')\n",
    "plt.annotate('%.3f' % res.S[400], (400, res.S[400]), xytext=(400, res.S[400] * 2), arrowprops=dict(arrowstyle='->'))\n",
    "plt.annotate('%.3f' % res.S[1024], (1024, res.S[1024]), xytext=(1024, res.S[1024] * 2), arrowprops=dict(arrowstyle='->'))\n",
    "plt.yscale('log')"
   ]
  }
 ],
 "metadata": {
  "kernelspec": {
   "display_name": "py310torch20",
   "language": "python",
   "name": "python3"
  },
  "language_info": {
   "codemirror_mode": {
    "name": "ipython",
    "version": 3
   },
   "file_extension": ".py",
   "mimetype": "text/x-python",
   "name": "python",
   "nbconvert_exporter": "python",
   "pygments_lexer": "ipython3",
   "version": "3.10.13"
  }
 },
 "nbformat": 4,
 "nbformat_minor": 2
}
