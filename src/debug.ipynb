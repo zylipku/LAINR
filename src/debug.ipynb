{
 "cells": [
  {
   "cell_type": "code",
   "execution_count": 2,
   "metadata": {},
   "outputs": [],
   "source": [
    "import os\n",
    "import numpy as np"
   ]
  },
  {
   "cell_type": "code",
   "execution_count": 3,
   "metadata": {},
   "outputs": [],
   "source": [
    "root_path='/home/lizhuoyuan/datasets/shallow_water/'"
   ]
  },
  {
   "cell_type": "code",
   "execution_count": 4,
   "metadata": {},
   "outputs": [
    {
     "ename": "FileNotFoundError",
     "evalue": "[Errno 2] No such file or directory: '/home/lizhuoyuan/datasets/shallow_water/raw/traj_1.npy'",
     "output_type": "error",
     "traceback": [
      "\u001b[0;31m---------------------------------------------------------------------------\u001b[0m",
      "\u001b[0;31mFileNotFoundError\u001b[0m                         Traceback (most recent call last)",
      "Cell \u001b[0;32mIn[4], line 1\u001b[0m\n\u001b[0;32m----> 1\u001b[0m data1:\u001b[38;5;28mdict\u001b[39m\u001b[38;5;241m=\u001b[39m\u001b[43mnp\u001b[49m\u001b[38;5;241;43m.\u001b[39;49m\u001b[43mload\u001b[49m\u001b[43m(\u001b[49m\u001b[43mos\u001b[49m\u001b[38;5;241;43m.\u001b[39;49m\u001b[43mpath\u001b[49m\u001b[38;5;241;43m.\u001b[39;49m\u001b[43mjoin\u001b[49m\u001b[43m(\u001b[49m\u001b[43mroot_path\u001b[49m\u001b[43m,\u001b[49m\u001b[38;5;124;43m'\u001b[39;49m\u001b[38;5;124;43mraw/traj_1.npy\u001b[39;49m\u001b[38;5;124;43m'\u001b[39;49m\u001b[43m)\u001b[49m\u001b[43m,\u001b[49m\u001b[43m \u001b[49m\u001b[43mallow_pickle\u001b[49m\u001b[38;5;241;43m=\u001b[39;49m\u001b[38;5;28;43;01mTrue\u001b[39;49;00m\u001b[43m)\u001b[49m\n\u001b[1;32m      2\u001b[0m data1\u001b[38;5;241m.\u001b[39mitem()\u001b[38;5;241m.\u001b[39mget(\u001b[38;5;124m'\u001b[39m\u001b[38;5;124mheight\u001b[39m\u001b[38;5;124m'\u001b[39m)\n",
      "File \u001b[0;32m~/.conda/envs/py310torch20/lib/python3.10/site-packages/numpy/lib/npyio.py:405\u001b[0m, in \u001b[0;36mload\u001b[0;34m(file, mmap_mode, allow_pickle, fix_imports, encoding, max_header_size)\u001b[0m\n\u001b[1;32m    403\u001b[0m     own_fid \u001b[38;5;241m=\u001b[39m \u001b[38;5;28;01mFalse\u001b[39;00m\n\u001b[1;32m    404\u001b[0m \u001b[38;5;28;01melse\u001b[39;00m:\n\u001b[0;32m--> 405\u001b[0m     fid \u001b[38;5;241m=\u001b[39m stack\u001b[38;5;241m.\u001b[39menter_context(\u001b[38;5;28;43mopen\u001b[39;49m\u001b[43m(\u001b[49m\u001b[43mos_fspath\u001b[49m\u001b[43m(\u001b[49m\u001b[43mfile\u001b[49m\u001b[43m)\u001b[49m\u001b[43m,\u001b[49m\u001b[43m \u001b[49m\u001b[38;5;124;43m\"\u001b[39;49m\u001b[38;5;124;43mrb\u001b[39;49m\u001b[38;5;124;43m\"\u001b[39;49m\u001b[43m)\u001b[49m)\n\u001b[1;32m    406\u001b[0m     own_fid \u001b[38;5;241m=\u001b[39m \u001b[38;5;28;01mTrue\u001b[39;00m\n\u001b[1;32m    408\u001b[0m \u001b[38;5;66;03m# Code to distinguish from NumPy binary files and pickles.\u001b[39;00m\n",
      "\u001b[0;31mFileNotFoundError\u001b[0m: [Errno 2] No such file or directory: '/home/lizhuoyuan/datasets/shallow_water/raw/traj_1.npy'"
     ]
    }
   ],
   "source": [
    "data1:dict=np.load(os.path.join(root_path,'raw/traj_1.npy'), allow_pickle=True)\n",
    "data1.item().get('height')"
   ]
  },
  {
   "cell_type": "code",
   "execution_count": 15,
   "metadata": {},
   "outputs": [
    {
     "name": "stdout",
     "output_type": "stream",
     "text": [
      "2\n",
      "3\n",
      "4\n",
      "5\n",
      "6\n",
      "7\n",
      "8\n",
      "9\n",
      "10\n",
      "11\n",
      "12\n",
      "13\n",
      "14\n",
      "15\n",
      "16\n",
      "17\n",
      "18\n",
      "19\n",
      "20\n"
     ]
    }
   ],
   "source": [
    "import h5py\n",
    "\n",
    "for seedno in range(2, 21):\n",
    "    data1: np.load(os.path.join(root_path, f'raw/traj_{seedno}.npy'), allow_pickle=True)\n",
    "    h5file = h5py.File(os.path.join(root_path, f'raw/traj_{seedno}.h5'), 'w')\n",
    "    h5file.create_dataset('height', data=data1.item().get('height'))\n",
    "    h5file.create_dataset('vorticity', data=data1.item().get('vorticity'))\n",
    "    h5file.create_dataset('phi', data=data1.item().get('phi'))\n",
    "    h5file.create_dataset('theta', data=data1.item().get('theta'))\n",
    "    h5file.close()\n",
    "    print(seedno)"
   ]
  },
  {
   "cell_type": "code",
   "execution_count": 12,
   "metadata": {},
   "outputs": [
    {
     "data": {
      "text/plain": [
       "array([0.        , 0.02454369, 0.04908739, 0.07363108, 0.09817477,\n",
       "       0.12271846, 0.14726216, 0.17180585, 0.19634954, 0.22089323,\n",
       "       0.24543693, 0.26998062, 0.29452431, 0.319068  , 0.3436117 ,\n",
       "       0.36815539, 0.39269908, 0.41724277, 0.44178647, 0.46633016,\n",
       "       0.49087385, 0.51541754, 0.53996124, 0.56450493, 0.58904862,\n",
       "       0.61359232, 0.63813601, 0.6626797 , 0.68722339, 0.71176709,\n",
       "       0.73631078, 0.76085447, 0.78539816, 0.80994186, 0.83448555,\n",
       "       0.85902924, 0.88357293, 0.90811663, 0.93266032, 0.95720401,\n",
       "       0.9817477 , 1.0062914 , 1.03083509, 1.05537878, 1.07992247,\n",
       "       1.10446617, 1.12900986, 1.15355355, 1.17809725, 1.20264094,\n",
       "       1.22718463, 1.25172832, 1.27627202, 1.30081571, 1.3253594 ,\n",
       "       1.34990309, 1.37444679, 1.39899048, 1.42353417, 1.44807786,\n",
       "       1.47262156, 1.49716525, 1.52170894, 1.54625263, 1.57079633,\n",
       "       1.59534002, 1.61988371, 1.6444274 , 1.6689711 , 1.69351479,\n",
       "       1.71805848, 1.74260218, 1.76714587, 1.79168956, 1.81623325,\n",
       "       1.84077695, 1.86532064, 1.88986433, 1.91440802, 1.93895172,\n",
       "       1.96349541, 1.9880391 , 2.01258279, 2.03712649, 2.06167018,\n",
       "       2.08621387, 2.11075756, 2.13530126, 2.15984495, 2.18438864,\n",
       "       2.20893233, 2.23347603, 2.25801972, 2.28256341, 2.3071071 ,\n",
       "       2.3316508 , 2.35619449, 2.38073818, 2.40528188, 2.42982557,\n",
       "       2.45436926, 2.47891295, 2.50345665, 2.52800034, 2.55254403,\n",
       "       2.57708772, 2.60163142, 2.62617511, 2.6507188 , 2.67526249,\n",
       "       2.69980619, 2.72434988, 2.74889357, 2.77343726, 2.79798096,\n",
       "       2.82252465, 2.84706834, 2.87161203, 2.89615573, 2.92069942,\n",
       "       2.94524311, 2.96978681, 2.9943305 , 3.01887419, 3.04341788,\n",
       "       3.06796158, 3.09250527, 3.11704896, 3.14159265, 3.16613635,\n",
       "       3.19068004, 3.21522373, 3.23976742, 3.26431112, 3.28885481,\n",
       "       3.3133985 , 3.33794219, 3.36248589, 3.38702958, 3.41157327,\n",
       "       3.43611696, 3.46066066, 3.48520435, 3.50974804, 3.53429174,\n",
       "       3.55883543, 3.58337912, 3.60792281, 3.63246651, 3.6570102 ,\n",
       "       3.68155389, 3.70609758, 3.73064128, 3.75518497, 3.77972866,\n",
       "       3.80427235, 3.82881605, 3.85335974, 3.87790343, 3.90244712,\n",
       "       3.92699082, 3.95153451, 3.9760782 , 4.00062189, 4.02516559,\n",
       "       4.04970928, 4.07425297, 4.09879667, 4.12334036, 4.14788405,\n",
       "       4.17242774, 4.19697144, 4.22151513, 4.24605882, 4.27060251,\n",
       "       4.29514621, 4.3196899 , 4.34423359, 4.36877728, 4.39332098,\n",
       "       4.41786467, 4.44240836, 4.46695205, 4.49149575, 4.51603944,\n",
       "       4.54058313, 4.56512682, 4.58967052, 4.61421421, 4.6387579 ,\n",
       "       4.6633016 , 4.68784529, 4.71238898, 4.73693267, 4.76147637,\n",
       "       4.78602006, 4.81056375, 4.83510744, 4.85965114, 4.88419483,\n",
       "       4.90873852, 4.93328221, 4.95782591, 4.9823696 , 5.00691329,\n",
       "       5.03145698, 5.05600068, 5.08054437, 5.10508806, 5.12963175,\n",
       "       5.15417545, 5.17871914, 5.20326283, 5.22780653, 5.25235022,\n",
       "       5.27689391, 5.3014376 , 5.3259813 , 5.35052499, 5.37506868,\n",
       "       5.39961237, 5.42415607, 5.44869976, 5.47324345, 5.49778714,\n",
       "       5.52233084, 5.54687453, 5.57141822, 5.59596191, 5.62050561,\n",
       "       5.6450493 , 5.66959299, 5.69413668, 5.71868038, 5.74322407,\n",
       "       5.76776776, 5.79231146, 5.81685515, 5.84139884, 5.86594253,\n",
       "       5.89048623, 5.91502992, 5.93957361, 5.9641173 , 5.988661  ,\n",
       "       6.01320469, 6.03774838, 6.06229207, 6.08683577, 6.11137946,\n",
       "       6.13592315, 6.16046684, 6.18501054, 6.20955423, 6.23409792,\n",
       "       6.25864161])"
      ]
     },
     "execution_count": 12,
     "metadata": {},
     "output_type": "execute_result"
    }
   ],
   "source": [
    "import h5py\n",
    "h5file=h5py.File(os.path.join(root_path,'raw/traj_1.h5'),'r')\n",
    "h5file['phi'][:]"
   ]
  },
  {
   "cell_type": "code",
   "execution_count": 16,
   "metadata": {},
   "outputs": [],
   "source": [
    "import h5py\n",
    "import os\n",
    "import numpy as np\n",
    "\n",
    "root_path='/home/lizhuoyuan/datasets/shallow_water/'\n",
    "\n",
    "trunc_slice=slice(0, 160)"
   ]
  },
  {
   "cell_type": "code",
<<<<<<< HEAD
   "execution_count": 1,
   "metadata": {},
   "outputs": [],
   "source": [
    "import h5py\n",
    "import os\n",
    "import numpy as np\n",
    "\n",
    "root_path = '/home/lizhuoyuan/datasets/shallow_water/'\n",
    "\n",
    "trunc_slice = slice(0, 160)"
   ]
  },
  {
   "cell_type": "code",
   "execution_count": 3,
   "metadata": {},
   "outputs": [
    {
     "data": {
      "text/plain": [
       "0.0"
      ]
     },
     "execution_count": 3,
     "metadata": {},
     "output_type": "execute_result"
    }
   ],
   "source": [
    "v_prev = np.load('/home/lizhuoyuan/V100x3-backup/lizhuoyuan/datasets/DINo_shallow_water/traj_1_vorticity.npy')\n",
    "traj1_file = h5py.File(os.path.join(root_path, f'raw/traj_1.h5'), 'r')\n",
    "v_curr=traj1_file['vorticity'][:][:, :: 2, :: 2]  # (240, 128, 64)\n",
    "\n",
    "np.linalg.norm(v_prev-v_curr)"
   ]
  },
  {
   "cell_type": "code",
   "execution_count": 4,
   "metadata": {},
   "outputs": [],
   "source": [
=======
   "execution_count": 17,
   "metadata": {},
   "outputs": [],
   "source": [
>>>>>>> 90a46fd719b06240f79d41c4928f505f3fe668a7
    "traj1_file = h5py.File(os.path.join(root_path, f'raw/traj_1.h5'), 'r')\n",
    "# field shape (600, 256, 128) -> (240, 128, 64)\n",
    "height1_np = traj1_file['height'][:][trunc_slice, :: 2, :: 2]  # (240, 128, 64)\n",
    "vorticity1_np = traj1_file['vorticity'][:][trunc_slice, :: 2, :: 2]  # (240, 128, 64)\n",
    "\n",
<<<<<<< HEAD
    "traj2_file = h5py.File(os.path.join(root_path, f'raw/traj_20.h5'), 'r')\n",
=======
    "traj2_file = h5py.File(os.path.join(root_path, f'raw/traj_2.h5'), 'r')\n",
>>>>>>> 90a46fd719b06240f79d41c4928f505f3fe668a7
    "# field shape (600, 256, 128) -> (240, 128, 64)\n",
    "height2_np = traj2_file['height'][:][trunc_slice, :: 2, :: 2]  # (240, 128, 64)\n",
    "vorticity2_np = traj2_file['vorticity'][:][trunc_slice, :: 2, :: 2]  # (240, 128, 64)"
   ]
  },
  {
   "cell_type": "code",
<<<<<<< HEAD
   "execution_count": 5,
   "metadata": {},
   "outputs": [
    {
     "data": {
      "text/plain": [
       "0.005397822921701363"
      ]
     },
     "execution_count": 5,
     "metadata": {},
     "output_type": "execute_result"
    }
   ],
   "source": [
    "np.linalg.norm(height1_np - height2_np)"
=======
   "execution_count": 19,
   "metadata": {},
   "outputs": [
    {
     "name": "stdout",
     "output_type": "stream",
     "text": [
      "0.0\n",
      "0.0\n"
     ]
    }
   ],
   "source": [
    "print(np.linalg.norm(height1_np-height2_np))\n",
    "print(np.linalg.norm(vorticity1_np-vorticity2_np))"
>>>>>>> 90a46fd719b06240f79d41c4928f505f3fe668a7
   ]
  }
 ],
 "metadata": {
  "kernelspec": {
   "display_name": "py310torch20",
   "language": "python",
   "name": "python3"
  },
  "language_info": {
   "codemirror_mode": {
    "name": "ipython",
    "version": 3
   },
   "file_extension": ".py",
   "mimetype": "text/x-python",
   "name": "python",
   "nbconvert_exporter": "python",
   "pygments_lexer": "ipython3",
   "version": "3.10.13"
  }
 },
 "nbformat": 4,
 "nbformat_minor": 2
}
