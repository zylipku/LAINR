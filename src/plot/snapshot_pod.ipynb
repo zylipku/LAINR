{
 "cells": [
  {
   "cell_type": "code",
   "execution_count": 1,
   "metadata": {},
   "outputs": [],
   "source": [
    "import os\n",
    "import numpy as np\n",
    "import torch"
   ]
  },
  {
   "cell_type": "code",
   "execution_count": 2,
   "metadata": {},
   "outputs": [
    {
     "data": {
      "text/plain": [
       "'/home/zhuoyuan/MyProjects/LAINR-simplified/src/plot'"
      ]
     },
     "execution_count": 2,
     "metadata": {},
     "output_type": "execute_result"
    }
   ],
   "source": [
    "os.getcwd()"
   ]
  },
  {
   "cell_type": "code",
   "execution_count": 3,
   "metadata": {},
   "outputs": [],
   "source": [
    "import sys\n",
    "sys.path.append('../')"
   ]
  },
  {
   "cell_type": "code",
   "execution_count": 4,
   "metadata": {},
   "outputs": [],
   "source": [
    "from metrics import get_metrics\n",
    "from datasets import MetaData"
   ]
  },
  {
   "cell_type": "code",
   "execution_count": 5,
   "metadata": {},
   "outputs": [],
   "source": [
    "root_path_sw = '/home/lizhuoyuan/datasets/shallow_water'"
   ]
  },
  {
   "cell_type": "code",
   "execution_count": 6,
   "metadata": {},
   "outputs": [],
   "source": [
    "root_path_era5 = '/home/lizhuoyuan/datasets/ERA5'"
   ]
  },
  {
   "cell_type": "code",
   "execution_count": 7,
   "metadata": {},
   "outputs": [],
   "source": [
    "metadata_sw_tr: MetaData = torch.load(os.path.join(root_path_sw, 'cached_meta_tr.pt'))\n",
    "metadata_sw_va: MetaData = torch.load(os.path.join(root_path_sw, 'cached_meta_va.pt'))"
   ]
  },
  {
   "cell_type": "code",
   "execution_count": 8,
   "metadata": {},
   "outputs": [],
   "source": [
    "metadata_era5_tr: MetaData = torch.load(os.path.join(root_path_era5, 'cached_meta_tr.pt'))\n",
    "metadata_era5_va: MetaData = torch.load(os.path.join(root_path_era5, 'cached_meta_va.pt'))"
   ]
  },
  {
   "cell_type": "code",
   "execution_count": 9,
   "metadata": {},
   "outputs": [],
   "source": [
    "trajs_sw_tr = metadata_sw_tr.trajs  # (ntrajs, Nsteps, *state_size, state_channels)\n",
    "trajs_sw_va = metadata_sw_va.trajs  # (ntrajs, Nsteps, *state_size, state_channels)\n",
    "\n",
    "ntrajs_tr, Nsteps_tr, *state_size_tr, state_channels_tr = trajs_sw_tr.shape\n",
    "ntrajs_va, Nsteps_va, *state_size_va, state_channels_va = trajs_sw_va.shape"
   ]
  },
  {
   "cell_type": "code",
   "execution_count": 10,
   "metadata": {},
   "outputs": [],
   "source": [
    "trajs_era5_tr = metadata_era5_tr.trajs  # (ntrajs, Nsteps, *state_size, state_channels)\n",
    "trajs_era5_va = metadata_era5_va.trajs  # (ntrajs, Nsteps, *state_size, state_channels)\n",
    "\n",
    "ntrajs_tr, Nsteps_tr, *state_size_tr, state_channels_tr = trajs_era5_tr.shape\n",
    "ntrajs_va, Nsteps_va, *state_size_va, state_channels_va = trajs_era5_va.shape"
   ]
  },
  {
   "cell_type": "code",
   "execution_count": 11,
   "metadata": {},
   "outputs": [
    {
     "name": "stdout",
     "output_type": "stream",
     "text": [
      "X_sw_tr.shape=(4320, 16384), X_sw_va.shape=(480, 16384)\n"
     ]
    }
   ],
   "source": [
    "X_sw_tr = trajs_sw_tr.reshape(trajs_sw_tr.shape[0] * trajs_sw_tr.shape[1], -1)  # (N, n)\n",
    "X_sw_va = trajs_sw_va.reshape(trajs_sw_va.shape[0] * trajs_sw_va.shape[1], -1)  # (N, n)\n",
    "\n",
    "X_sw_tr = np.float64(X_sw_tr.numpy())  # (N, n=128x64x2=16384)\n",
    "X_sw_va = np.float64(X_sw_va.numpy())  # (N, n=128x64x2=16384)\n",
    "\n",
    "print(f'{X_sw_tr.shape=}, {X_sw_va.shape=}')"
   ]
  },
  {
   "cell_type": "code",
   "execution_count": 12,
   "metadata": {},
   "outputs": [
    {
     "name": "stdout",
     "output_type": "stream",
     "text": [
      "X_era5_tr.shape=(8400, 16384), X_era5_va.shape=(480, 16384)\n"
     ]
    }
   ],
   "source": [
    "X_era5_tr = trajs_era5_tr.reshape(trajs_era5_tr.shape[0] * trajs_era5_tr.shape[1], -1)  # (N, n)\n",
    "X_era5_va = trajs_era5_va.reshape(trajs_era5_va.shape[0] * trajs_era5_va.shape[1], -1)  # (N, n)\n",
    "\n",
    "X_era5_tr = np.float64(X_era5_tr.numpy())  # (N, n=128x64x2=16384)\n",
    "X_era5_va = np.float64(X_era5_va.numpy())  # (N, n=128x64x2=16384)\n",
    "\n",
    "print(f'{X_era5_tr.shape=}, {X_era5_va.shape=}')"
   ]
  },
  {
   "cell_type": "code",
   "execution_count": 13,
   "metadata": {},
   "outputs": [
    {
     "name": "stdout",
     "output_type": "stream",
     "text": [
      "(16384, 4320)\n",
      "(4320,)\n",
      "(4320, 4320)\n"
     ]
    }
   ],
   "source": [
    "X_sw_tr = (X_sw_tr - X_sw_tr.mean(axis=0)) / np.sqrt(X_sw_tr.shape[0])\n",
    "res_sw = np.linalg.svd(X_sw_tr.T, full_matrices=False)  # (n, n)\n",
    "print(res_sw.U.shape)  # (16384, 4320) = (128x64x2, 18x240)\n",
    "print(res_sw.S.shape)  # (4320,)\n",
    "print(res_sw.Vh.shape)  # (4320, 4320)"
   ]
  },
  {
   "cell_type": "code",
   "execution_count": 14,
   "metadata": {},
   "outputs": [
    {
     "name": "stdout",
     "output_type": "stream",
     "text": [
      "(16384, 8400)\n",
      "(8400,)\n",
      "(8400, 8400)\n"
     ]
    }
   ],
   "source": [
    "X_era5_tr = (X_era5_tr - X_era5_tr.mean(axis=0)) / np.sqrt(X_era5_tr.shape[0])\n",
    "res_era5 = np.linalg.svd(X_era5_tr.T, full_matrices=False)  # (n, n)\n",
    "print(res_era5.U.shape)  # (16384, 4320) = (128x64x2, 18x240)\n",
    "print(res_era5.S.shape)  # (4320,)\n",
    "print(res_era5.Vh.shape)  # (4320, 4320)"
   ]
  },
  {
   "cell_type": "code",
   "execution_count": 15,
   "metadata": {},
   "outputs": [],
   "source": [
    "import pandas as pd\n",
    "import seaborn as sns\n",
    "from matplotlib import pyplot as plt\n"
   ]
  },
  {
   "cell_type": "code",
   "execution_count": 16,
   "metadata": {},
   "outputs": [],
   "source": [
    "import matplotlib\n",
    "matplotlib.rcParams['mathtext.fontset'] = 'stix'\n",
    "matplotlib.rcParams['font.family'] = 'STIXGeneral'"
   ]
  },
  {
   "cell_type": "code",
   "execution_count": null,
   "metadata": {},
   "outputs": [],
   "source": [
    "df1 = pd.DataFrame({'eigenvalues': pd.Series(res_sw.S),\n",
    "                   'index of modes': list(range(len(res_sw.S)))})\n",
    "df2 = pd.DataFrame({'eigenvalues': pd.Series(res_era5.S),\n",
    "                   'index of modes': list(range(len(res_era5.S)))})\n",
    "df1['dataset'] = 'shallow-water'\n",
    "df2['dataset'] = 'ERA5'\n",
    "df = pd.concat([df1, df2])\n",
    "df0 = df[df.index < 4000]"
   ]
  },
  {
   "cell_type": "code",
   "execution_count": 19,
   "metadata": {},
   "outputs": [
    {
     "data": {
      "image/png": "[encoded data removed]",
      "text/plain": [
       "<Figure size 640x480 with 1 Axes>"
      ]
     },
     "metadata": {},
     "output_type": "display_data"
    }
   ],
   "source": [
    "ax = sns.lineplot(data=df0, palette=\"deep\", hue='dataset', x='index of modes', y='eigenvalues')\n",
    "ax.set_yscale('log')\n",
    "ax.grid(axis='y')\n",
    "plt.savefig('eigenvalues.pdf', bbox_inches='tight')"
   ]
  }
 ],
 "metadata": {
  "kernelspec": {
   "display_name": "py310torch20",
   "language": "python",
   "name": "python3"
  },
  "language_info": {
   "codemirror_mode": {
    "name": "ipython",
    "version": 3
   },
   "file_extension": ".py",
   "mimetype": "text/x-python",
   "name": "python",
   "nbconvert_exporter": "python",
   "pygments_lexer": "ipython3",
   "version": "3.10.13"
  }
 },
 "nbformat": 4,
 "nbformat_minor": 2
}
